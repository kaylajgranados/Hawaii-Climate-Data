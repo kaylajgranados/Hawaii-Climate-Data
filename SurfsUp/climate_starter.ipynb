{
 "cells": [
  {
   "cell_type": "code",
   "execution_count": 1,
   "metadata": {},
   "outputs": [],
   "source": [
    "%matplotlib inline\n",
    "from matplotlib import style\n",
    "style.use('fivethirtyeight')\n",
    "import matplotlib.pyplot as plt"
   ]
  },
  {
   "cell_type": "code",
   "execution_count": 2,
   "metadata": {},
   "outputs": [],
   "source": [
    "import numpy as np\n",
    "import pandas as pd\n",
    "import datetime as dt"
   ]
  },
  {
   "cell_type": "markdown",
   "metadata": {},
   "source": [
    "# Reflect Tables into SQLAlchemy ORM"
   ]
  },
  {
   "cell_type": "code",
   "execution_count": 3,
   "metadata": {},
   "outputs": [],
   "source": [
    "# Python SQL toolkit and Object Relational Mapper\n",
    "import sqlalchemy\n",
    "from sqlalchemy.ext.automap import automap_base\n",
    "from sqlalchemy.orm import Session\n",
    "from sqlalchemy import create_engine, func"
   ]
  },
  {
   "cell_type": "code",
   "execution_count": 4,
   "metadata": {},
   "outputs": [],
   "source": [
    "# create engine to hawaii.sqlite\n",
    "engine = create_engine(\"sqlite:///Resources/hawaii.sqlite\")"
   ]
  },
  {
   "cell_type": "code",
   "execution_count": 5,
   "metadata": {},
   "outputs": [],
   "source": [
    "# reflect an existing database into a new model\n",
    "###### Day 2 Activity 5\n",
    "Base = automap_base()\n",
    "\n",
    "# reflect the tables\n",
    "Base.prepare(engine, reflect=True)\n"
   ]
  },
  {
   "cell_type": "code",
   "execution_count": 6,
   "metadata": {},
   "outputs": [
    {
     "data": {
      "text/plain": [
       "['measurement', 'station']"
      ]
     },
     "execution_count": 6,
     "metadata": {},
     "output_type": "execute_result"
    }
   ],
   "source": [
    "# View all of the classes that automap found\n",
    "###### Day 2 Activity 5\n",
    "# Pring all of the classes mapped to the Base \n",
    "Base.classes.keys()"
   ]
  },
  {
   "cell_type": "code",
   "execution_count": 7,
   "metadata": {},
   "outputs": [],
   "source": [
    "# Save references to each table\n",
    "###### Day 2 Activity 5\n",
    "Measurement = Base.classes.measurement \n",
    "Station = Base.classes.station\n"
   ]
  },
  {
   "cell_type": "code",
   "execution_count": 8,
   "metadata": {},
   "outputs": [],
   "source": [
    "# Create our session (link) from Python to the DB\n",
    "###### Day 2 Activity 5\n",
    "session = Session(engine)\n"
   ]
  },
  {
   "cell_type": "markdown",
   "metadata": {},
   "source": [
    "# Exploratory Precipitation Analysis"
   ]
  },
  {
   "cell_type": "code",
   "execution_count": 9,
   "metadata": {},
   "outputs": [
    {
     "data": {
      "text/plain": [
       "('2017-08-23',)"
      ]
     },
     "execution_count": 9,
     "metadata": {},
     "output_type": "execute_result"
    }
   ],
   "source": [
    "# Find the most recent date in the data set.\n",
    "###### Day 3 Activity 2 (there are other ways, but this example is very specific)\n",
    "session.query(Measurement.date).order_by(Measurement.date.desc()).first()"
   ]
  },
  {
   "cell_type": "code",
   "execution_count": 26,
   "metadata": {},
   "outputs": [
    {
     "data": {
      "image/png": "[encoded data removed]",
      "text/plain": [
       "<Figure size 432x288 with 1 Axes>"
      ]
     },
     "metadata": {},
     "output_type": "display_data"
    }
   ],
   "source": [
    "# Design a query to retrieve the last 12 months of precipitation data and plot the results. \n",
    "# Starting from the most recent data point in the database. \n",
    "###### you can just look at the data to get this point OR use python to find it\n",
    "\n",
    "\n",
    "# Calculate the date one year from the last date in data set.\n",
    "###### This is also found in the data lecture #Day 3 Activity 2\n",
    "###### Look for the code using timedelta\n",
    "\n",
    "year_ago = dt.date(2017,8,23) - dt.timedelta(days=365)\n",
    "\n",
    "# Perform a query to retrieve the date and precipitation scores \n",
    "###### you can do this with session.query and .filter or with execute(SQL)\n",
    "year_ago_data = session.query(Measurement.prcp, Measurement.date).\\\n",
    "    filter(Measurement.date >= year_ago).\\\n",
    "    order_by(Measurement.date).all()\n",
    "\n",
    "# date_str = \"14\"\n",
    "# session.query(Measurement.date).\\\n",
    "#     filter(func.strftime(\"%d\", Measurement.date) == date_str).all()\n",
    "\n",
    "# Save the query results as a Pandas DataFrame and set the index to the date column\n",
    "###### you can use pd.read_sql.  If you choose to use .filter you will need to pd.DataFrame()\n",
    "result_df = pd.DataFrame(year_ago_data,columns=['prcp','date'])\n",
    "result_df\n",
    "# index_df = current_df_name.set_index([\"column name that I'm setting for the df\"])\n",
    "\n",
    "# Sort the dataframe by date\n",
    "###### this is found throughout, but Day 3 Activity 3 has a specific example\n",
    "#done above \n",
    "\n",
    "# # Use Pandas Plotting with Matplotlib to plot the data\n",
    "# # ######Day 3 Activity 3 has a specific example\n",
    "# df = pd.DataFrame(may_averages, columns=['stock', 'open_avg', 'high_avg', 'low_avg', 'close_avg'])\n",
    "# df.set_index('stock', inplace=True)\n",
    "# #need to decide what x and y are \n",
    "result_df.plot(x='date', y='prcp')\n",
    "plt.tight_layout()\n",
    "plt.show\n",
    "#need to rotate the text. use rotation in the result_df.plot\n",
    "\n",
    "result_df.set_index('date', inplace=True)\n",
    "\n"
   ]
  },
  {
   "cell_type": "code",
   "execution_count": 27,
   "metadata": {},
   "outputs": [
    {
     "name": "stdout",
     "output_type": "stream",
     "text": [
      "{0.0: '2017-08-23', 0.15: '2017-08-09', 0.05: '2017-08-17', None: '2017-08-21', 0.02: '2017-08-21', 1.79: '2017-02-07', 0.7: '2017-07-20', 0.08: '2017-08-23', 2.15: '2016-08-24', 2.28: '2016-08-24', 1.22: '2016-08-24', 1.45: '2017-03-02', 0.21: '2017-07-17', 0.06: '2017-08-18', 0.11: '2017-07-25', 0.03: '2017-07-25', 0.04: '2017-08-04', 0.01: '2017-08-20', 0.18: '2017-07-07', 0.12: '2017-08-16', 0.14: '2017-08-12', 0.6: '2017-05-15', 2.07: '2016-08-28', 0.17: '2017-06-20', 0.35: '2017-06-17', 0.9: '2017-04-15', 0.13: '2017-08-17', 0.1: '2017-08-08', 0.25: '2017-08-02', 0.24: '2017-06-18', 2.46: '2016-08-31', 0.19: '2017-06-21', 0.07: '2017-08-16', 1.0: '2017-05-14', 0.74: '2017-06-11', 0.44: '2017-05-23', 0.23: '2017-07-29', 0.16: '2017-07-17', 1.35: '2017-04-22', 0.22: '2017-08-14', 0.29: '2017-05-28', 0.09: '2017-08-19', 1.16: '2017-04-21', 0.3: '2017-07-30', 0.31: '2017-06-20', 1.04: '2017-04-30', 0.37: '2017-05-25', 0.32: '2017-08-15', 0.46: '2017-05-18', 0.34: '2017-08-08', 1.2: '2016-09-13', 1.32: '2017-02-07', 1.84: '2017-04-21', 1.19: '2017-07-24', 2.33: '2016-09-14', 6.7: '2016-09-14', 0.42: '2017-08-16', 0.83: '2016-12-23', 3.35: '2016-09-15', 0.61: '2017-07-24', 0.36: '2017-06-24', 0.43: '2017-03-25', 1.02: '2016-10-01', 0.75: '2016-09-22', 0.94: '2016-09-23', 0.33: '2017-07-20', 0.27: '2017-07-19', 0.49: '2017-04-16', 0.2: '2017-07-23', 0.59: '2017-04-13', 1.49: '2016-09-29', 0.38: '2017-04-15', 3.46: '2016-10-04', 0.81: '2017-06-14', 0.28: '2017-07-12', 0.48: '2017-03-25', 1.37: '2016-10-22', 0.4: '2017-07-28', 1.25: '2016-10-27', 0.26: '2017-05-30', 0.95: '2017-05-08', 0.53: '2017-06-10', 0.91: '2016-11-16', 0.39: '2017-07-17', 2.87: '2016-11-21', 0.41: '2017-04-17', 2.05: '2016-11-22', 2.11: '2016-11-22', 0.72: '2017-01-22', 1.03: '2016-12-29', 0.69: '2017-04-14', 0.79: '2017-04-28', 1.27: '2016-12-02', 0.77: '2016-12-03', 1.62: '2017-05-09', 0.45: '2017-08-23', 1.6: '2016-12-05', 0.52: '2017-05-09', 0.92: '2016-12-14', 0.55: '2017-06-15', 0.86: '2016-12-22', 1.24: '2016-12-22', 1.08: '2017-02-08', 1.48: '2017-03-02', 0.56: '2017-08-21', 2.37: '2016-12-30', 0.62: '2017-06-10', 0.47: '2017-04-16', 0.85: '2017-01-23', 1.85: '2017-01-24', 2.64: '2017-01-25', 0.51: '2017-03-06', 1.8: '2017-02-07', 2.39: '2017-02-11', 5.04: '2017-02-11', 1.73: '2017-02-11', 0.73: '2017-05-08', 2.62: '2017-02-12', 1.07: '2017-02-12', 1.91: '2017-02-12', 2.98: '2017-02-12', 1.83: '2017-02-12', 2.9: '2017-02-13', 0.67: '2017-02-16', 0.8: '2017-07-23', 0.58: '2017-07-24', 2.2: '2017-03-01', 1.12: '2017-05-30', 2.4: '2017-07-18', 2.12: '2017-03-01', 2.0: '2017-03-01', 1.88: '2017-03-02', 0.54: '2017-03-03', 0.5: '2017-08-22', 0.65: '2017-06-13', 0.93: '2017-03-25', 0.68: '2017-07-14', 2.3: '2017-04-14', 2.82: '2017-04-14', 1.3: '2017-04-17', 2.03: '2017-04-18', 0.98: '2017-04-18', 1.05: '2017-04-21', 2.36: '2017-04-21', 1.74: '2017-04-21', 1.01: '2017-04-22', 1.58: '2017-05-09', 2.6: '2017-04-28', 0.76: '2017-04-28', 6.25: '2017-04-29', 0.89: '2017-04-30', 1.21: '2017-04-30', 1.17: '2017-04-30', 1.31: '2017-04-30', 1.11: '2017-05-08', 2.17: '2017-05-24', 0.88: '2017-05-25', 0.82: '2017-06-04', 1.69: '2017-06-15', 4.0: '2017-07-22', 0.84: '2017-07-24'}\n"
     ]
    }
   ],
   "source": [
    "# testing out the for loop in the jupyter notebook \n",
    "dictionary_two = {}\n",
    "for key,value in year_ago_data:\n",
    "        dictionary_two[key]=value\n",
    "print(dictionary_two)"
   ]
  },
  {
   "cell_type": "code",
   "execution_count": 28,
   "metadata": {},
   "outputs": [
    {
     "data": {
      "text/html": [
       "<div>\n",
       "<style scoped>\n",
       "    .dataframe tbody tr th:only-of-type {\n",
       "        vertical-align: middle;\n",
       "    }\n",
       "\n",
       "    .dataframe tbody tr th {\n",
       "        vertical-align: top;\n",
       "    }\n",
       "\n",
       "    .dataframe thead th {\n",
       "        text-align: right;\n",
       "    }\n",
       "</style>\n",
       "<table border=\"1\" class=\"dataframe\">\n",
       "  <thead>\n",
       "    <tr style=\"text-align: right;\">\n",
       "      <th></th>\n",
       "      <th>prcp</th>\n",
       "    </tr>\n",
       "  </thead>\n",
       "  <tbody>\n",
       "    <tr>\n",
       "      <th>count</th>\n",
       "      <td>2021.000000</td>\n",
       "    </tr>\n",
       "    <tr>\n",
       "      <th>mean</th>\n",
       "      <td>0.177279</td>\n",
       "    </tr>\n",
       "    <tr>\n",
       "      <th>std</th>\n",
       "      <td>0.461190</td>\n",
       "    </tr>\n",
       "    <tr>\n",
       "      <th>min</th>\n",
       "      <td>0.000000</td>\n",
       "    </tr>\n",
       "    <tr>\n",
       "      <th>25%</th>\n",
       "      <td>0.000000</td>\n",
       "    </tr>\n",
       "    <tr>\n",
       "      <th>50%</th>\n",
       "      <td>0.020000</td>\n",
       "    </tr>\n",
       "    <tr>\n",
       "      <th>75%</th>\n",
       "      <td>0.130000</td>\n",
       "    </tr>\n",
       "    <tr>\n",
       "      <th>max</th>\n",
       "      <td>6.700000</td>\n",
       "    </tr>\n",
       "  </tbody>\n",
       "</table>\n",
       "</div>"
      ],
      "text/plain": [
       "              prcp\n",
       "count  2021.000000\n",
       "mean      0.177279\n",
       "std       0.461190\n",
       "min       0.000000\n",
       "25%       0.000000\n",
       "50%       0.020000\n",
       "75%       0.130000\n",
       "max       6.700000"
      ]
     },
     "execution_count": 28,
     "metadata": {},
     "output_type": "execute_result"
    }
   ],
   "source": [
    "# Use Pandas to calculate the summary statistics for the precipitation data\n",
    "###### Pandas Day 1 Activity 4\n",
    "result_df.describe()"
   ]
  },
  {
   "cell_type": "markdown",
   "metadata": {},
   "source": [
    "# Exploratory Station Analysis"
   ]
  },
  {
   "cell_type": "code",
   "execution_count": 29,
   "metadata": {},
   "outputs": [
    {
     "name": "stdout",
     "output_type": "stream",
     "text": [
      "[(9,)]\n"
     ]
    }
   ],
   "source": [
    "# Design a query to calculate the total number stations in the dataset\n",
    "#####  You can use session.query() or just plain SQL for this.\n",
    "\n",
    "total_stations = session.query(func.count(Station.station)).all()\n",
    "print(total_stations)"
   ]
  },
  {
   "cell_type": "code",
   "execution_count": 30,
   "metadata": {},
   "outputs": [
    {
     "data": {
      "text/plain": [
       "[(2772, 'USC00519281'),\n",
       " (2724, 'USC00519397'),\n",
       " (2709, 'USC00513117'),\n",
       " (2669, 'USC00519523'),\n",
       " (2612, 'USC00516128'),\n",
       " (2202, 'USC00514830'),\n",
       " (1979, 'USC00511918'),\n",
       " (1372, 'USC00517948'),\n",
       " (511, 'USC00518838')]"
      ]
     },
     "execution_count": 30,
     "metadata": {},
     "output_type": "execute_result"
    }
   ],
   "source": [
    "# Design a query to find the most active stations (i.e. what stations have the most rows?)\n",
    "# List the stations and the counts in descending order.\n",
    "#####  You can use session.query() or just plain SQL for this.\n",
    "\n",
    "#There was an error with the order by and also this doesn't list out both stations and counts. I think those are just counts? \n",
    "\n",
    "active_stations = session.query(func.count(Measurement.station), Measurement.station).\\\n",
    "        group_by(Measurement.station).\\\n",
    "        order_by(func.count(Measurement.station).desc()).all()\n",
    "\n",
    "active_stations"
   ]
  },
  {
   "cell_type": "code",
   "execution_count": 31,
   "metadata": {},
   "outputs": [
    {
     "data": {
      "text/plain": [
       "[(54.0, 85.0, 71.66378066378067)]"
      ]
     },
     "execution_count": 31,
     "metadata": {},
     "output_type": "execute_result"
    }
   ],
   "source": [
    "#Results only say none \n",
    "\n",
    "# Using the most active station id from the previous query, calculate the lowest, highest, and average temperature.\n",
    "#####  You can use session.query() or just plain SQL for this.\n",
    "\n",
    "# this returned \"None\"\n",
    "low_high_average = session.query(func.min(Measurement.tobs), func.max(Measurement.tobs), func.avg(Measurement.tobs)).\\\n",
    "             filter(Measurement.station=='USC00519281').all()     \n",
    "\n",
    "# this got error: \"ArgumentError: SQL expression for WHERE/HAVING role expected, got 2772.\"\n",
    "# low_high_average = session.query(func.max(Measurement.tobs)).\\\n",
    "#                 filter(active_stations[0][0]).all()  \n",
    "low_high_average\n",
    "\n",
    "\n"
   ]
  },
  {
   "cell_type": "code",
   "execution_count": 32,
   "metadata": {},
   "outputs": [
    {
     "data": {
      "text/html": [
       "<div>\n",
       "<style scoped>\n",
       "    .dataframe tbody tr th:only-of-type {\n",
       "        vertical-align: middle;\n",
       "    }\n",
       "\n",
       "    .dataframe tbody tr th {\n",
       "        vertical-align: top;\n",
       "    }\n",
       "\n",
       "    .dataframe thead th {\n",
       "        text-align: right;\n",
       "    }\n",
       "</style>\n",
       "<table border=\"1\" class=\"dataframe\">\n",
       "  <thead>\n",
       "    <tr style=\"text-align: right;\">\n",
       "      <th></th>\n",
       "      <th>tobs</th>\n",
       "    </tr>\n",
       "  </thead>\n",
       "  <tbody>\n",
       "    <tr>\n",
       "      <th>0</th>\n",
       "      <td>79.0</td>\n",
       "    </tr>\n",
       "    <tr>\n",
       "      <th>1</th>\n",
       "      <td>76.0</td>\n",
       "    </tr>\n",
       "    <tr>\n",
       "      <th>2</th>\n",
       "      <td>76.0</td>\n",
       "    </tr>\n",
       "    <tr>\n",
       "      <th>3</th>\n",
       "      <td>77.0</td>\n",
       "    </tr>\n",
       "    <tr>\n",
       "      <th>4</th>\n",
       "      <td>77.0</td>\n",
       "    </tr>\n",
       "  </tbody>\n",
       "</table>\n",
       "</div>"
      ],
      "text/plain": [
       "   tobs\n",
       "0  79.0\n",
       "1  76.0\n",
       "2  76.0\n",
       "3  77.0\n",
       "4  77.0"
      ]
     },
     "execution_count": 32,
     "metadata": {},
     "output_type": "execute_result"
    }
   ],
   "source": [
    "# Need to figure out the code above before this cell will work\n",
    "\n",
    "#Interface error\n",
    "#Note: the code above had interface error if I didn't have [0][0]. I'm assuming the interface error is because of trying to call the entire list instead of just one\n",
    "#But why did adding [0][0] not fix it? \n",
    "\n",
    "#tobs is the temperature observation \n",
    "# Using the most active station id\n",
    "# Query the last 12 months of temperature observation data for this station and plot the results as a histogram\n",
    "#####  You can use session.query() or just plain SQL for this.\n",
    "#####  The plot is similar to the one above\n",
    "\n",
    "#Session query \n",
    "twelve_months_station = session.query(Measurement.tobs).\\\n",
    "                                filter(Measurement.station=='USC00519281').\\\n",
    "                                filter(Measurement.date >= year_ago).\\\n",
    "                                order_by(Measurement.date.desc()).all()\n",
    "twelve_months_station_df = pd.DataFrame(twelve_months_station)\n",
    "twelve_months_station_df.head()\n"
   ]
  },
  {
   "cell_type": "code",
   "execution_count": 33,
   "metadata": {},
   "outputs": [
    {
     "data": {
      "text/plain": [
       "Text(0, 0.5, 'Count')"
      ]
     },
     "execution_count": 33,
     "metadata": {},
     "output_type": "execute_result"
    },
    {
     "data": {
      "image/png": "[encoded data removed]",
      "text/plain": [
       "<Figure size 432x288 with 1 Axes>"
      ]
     },
     "metadata": {},
     "output_type": "display_data"
    }
   ],
   "source": [
    "#Need to figure out cell above before this will work \n",
    "\n",
    "#Plot the histogram\n",
    "#Where do I put bins=12?\n",
    "plt.hist(twelve_months_station_df)\n",
    "plt.title('Last 12 Months of Station Temperature')\n",
    "plt.xlabel('Temperature')\n",
    "plt.ylabel('Count')"
   ]
  },
  {
   "cell_type": "markdown",
   "metadata": {},
   "source": [
    "# Close session"
   ]
  },
  {
   "cell_type": "code",
   "execution_count": null,
   "metadata": {},
   "outputs": [],
   "source": [
    "# Close Session\n",
    "session.close()"
   ]
  }
 ],
 "metadata": {
  "anaconda-cloud": {},
  "kernel_info": {
   "name": "python3"
  },
  "kernelspec": {
   "display_name": "Python 3.9.12 ('base')",
   "language": "python",
   "name": "python3"
  },
  "language_info": {
   "codemirror_mode": {
    "name": "ipython",
    "version": 3
   },
   "file_extension": ".py",
   "mimetype": "text/x-python",
   "name": "python",
   "nbconvert_exporter": "python",
   "pygments_lexer": "ipython3",
   "version": "3.9.12"
  },
  "nteract": {
   "version": "0.12.3"
  },
  "varInspector": {
   "cols": {
    "lenName": 16,
    "lenType": 16,
    "lenVar": 40
   },
   "kernels_config": {
    "python": {
     "delete_cmd_postfix": "",
     "delete_cmd_prefix": "del ",
     "library": "var_list.py",
     "varRefreshCmd": "print(var_dic_list())"
    },
    "r": {
     "delete_cmd_postfix": ") ",
     "delete_cmd_prefix": "rm(",
     "library": "var_list.r",
     "varRefreshCmd": "cat(var_dic_list()) "
    }
   },
   "types_to_exclude": [
    "module",
    "function",
    "builtin_function_or_method",
    "instance",
    "_Feature"
   ],
   "window_display": false
  },
  "vscode": {
   "interpreter": {
    "hash": "3d1748e3e6b502ceef857afceb126ed838b595688a49a2c168bcf950cfc9332f"
   }
  }
 },
 "nbformat": 4,
 "nbformat_minor": 2
}
